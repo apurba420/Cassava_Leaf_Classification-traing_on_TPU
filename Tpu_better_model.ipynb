{
  "nbformat": 4,
  "nbformat_minor": 0,
  "metadata": {
    "colab": {
      "name": "leaf.ipynb",
      "provenance": [],
      "collapsed_sections": [],
      "include_colab_link": true
    },
    "kernelspec": {
      "name": "python3",
      "display_name": "Python 3"
    },
    "accelerator": "TPU"
  },
  "cells": [
    {
      "cell_type": "markdown",
      "metadata": {
        "id": "view-in-github",
        "colab_type": "text"
      },
      "source": [
        "<a href=\"https://colab.research.google.com/github/apurba420/Cassava_Leaf_Classification-traing_on_TPU/blob/main/Tpu_better_model.ipynb\" target=\"_parent\"><img src=\"https://colab.research.google.com/assets/colab-badge.svg\" alt=\"Open In Colab\"/></a>"
      ]
    },
    {
      "cell_type": "code",
      "metadata": {
        "colab": {
          "base_uri": "https://localhost:8080/"
        },
        "id": "nBoJyqmc1jNS",
        "outputId": "4dd7b4b9-77e1-49ec-c5a8-f215f107f827"
      },
      "source": [
        "!pip install fsspec\r\n",
        "!pip install gcsfs"
      ],
      "execution_count": null,
      "outputs": [
        {
          "output_type": "stream",
          "text": [
            "Requirement already satisfied: fsspec in /usr/local/lib/python3.6/dist-packages (0.8.5)\n",
            "Requirement already satisfied: gcsfs in /usr/local/lib/python3.6/dist-packages (0.7.1)\n",
            "Requirement already satisfied: aiohttp in /usr/local/lib/python3.6/dist-packages (from gcsfs) (3.7.3)\n",
            "Requirement already satisfied: fsspec>=0.8.0 in /usr/local/lib/python3.6/dist-packages (from gcsfs) (0.8.5)\n",
            "Requirement already satisfied: google-auth>=1.2 in /usr/local/lib/python3.6/dist-packages (from gcsfs) (1.24.0)\n",
            "Requirement already satisfied: google-auth-oauthlib in /usr/local/lib/python3.6/dist-packages (from gcsfs) (0.4.2)\n",
            "Requirement already satisfied: requests in /usr/local/lib/python3.6/dist-packages (from gcsfs) (2.23.0)\n",
            "Requirement already satisfied: decorator in /usr/local/lib/python3.6/dist-packages (from gcsfs) (4.4.2)\n",
            "Requirement already satisfied: attrs>=17.3.0 in /usr/local/lib/python3.6/dist-packages (from aiohttp->gcsfs) (20.3.0)\n",
            "Requirement already satisfied: async-timeout<4.0,>=3.0 in /usr/local/lib/python3.6/dist-packages (from aiohttp->gcsfs) (3.0.1)\n",
            "Requirement already satisfied: yarl<2.0,>=1.0 in /usr/local/lib/python3.6/dist-packages (from aiohttp->gcsfs) (1.6.3)\n",
            "Requirement already satisfied: typing-extensions>=3.6.5 in /usr/local/lib/python3.6/dist-packages (from aiohttp->gcsfs) (3.7.4.3)\n",
            "Requirement already satisfied: multidict<7.0,>=4.5 in /usr/local/lib/python3.6/dist-packages (from aiohttp->gcsfs) (5.1.0)\n",
            "Requirement already satisfied: idna-ssl>=1.0; python_version < \"3.7\" in /usr/local/lib/python3.6/dist-packages (from aiohttp->gcsfs) (1.1.0)\n",
            "Requirement already satisfied: chardet<4.0,>=2.0 in /usr/local/lib/python3.6/dist-packages (from aiohttp->gcsfs) (3.0.4)\n",
            "Requirement already satisfied: setuptools>=40.3.0 in /usr/local/lib/python3.6/dist-packages (from google-auth>=1.2->gcsfs) (53.0.0)\n",
            "Requirement already satisfied: six>=1.9.0 in /usr/local/lib/python3.6/dist-packages (from google-auth>=1.2->gcsfs) (1.15.0)\n",
            "Requirement already satisfied: pyasn1-modules>=0.2.1 in /usr/local/lib/python3.6/dist-packages (from google-auth>=1.2->gcsfs) (0.2.8)\n",
            "Requirement already satisfied: cachetools<5.0,>=2.0.0 in /usr/local/lib/python3.6/dist-packages (from google-auth>=1.2->gcsfs) (4.2.1)\n",
            "Requirement already satisfied: rsa<5,>=3.1.4; python_version >= \"3.6\" in /usr/local/lib/python3.6/dist-packages (from google-auth>=1.2->gcsfs) (4.7)\n",
            "Requirement already satisfied: requests-oauthlib>=0.7.0 in /usr/local/lib/python3.6/dist-packages (from google-auth-oauthlib->gcsfs) (1.3.0)\n",
            "Requirement already satisfied: urllib3!=1.25.0,!=1.25.1,<1.26,>=1.21.1 in /usr/local/lib/python3.6/dist-packages (from requests->gcsfs) (1.24.3)\n",
            "Requirement already satisfied: idna<3,>=2.5 in /usr/local/lib/python3.6/dist-packages (from requests->gcsfs) (2.10)\n",
            "Requirement already satisfied: certifi>=2017.4.17 in /usr/local/lib/python3.6/dist-packages (from requests->gcsfs) (2020.12.5)\n",
            "Requirement already satisfied: pyasn1<0.5.0,>=0.4.6 in /usr/local/lib/python3.6/dist-packages (from pyasn1-modules>=0.2.1->google-auth>=1.2->gcsfs) (0.4.8)\n",
            "Requirement already satisfied: oauthlib>=3.0.0 in /usr/local/lib/python3.6/dist-packages (from requests-oauthlib>=0.7.0->google-auth-oauthlib->gcsfs) (3.1.0)\n"
          ],
          "name": "stdout"
        }
      ]
    },
    {
      "cell_type": "code",
      "metadata": {
        "id": "yX0cbIday8Iw"
      },
      "source": [
        "import numpy as np\r\n",
        "import pandas as pd\r\n",
        "from sklearn.model_selection import train_test_split\r\n",
        "import tensorflow as tf\r\n",
        "import keras\r\n",
        "from keras.regularizers import l2"
      ],
      "execution_count": null,
      "outputs": []
    },
    {
      "cell_type": "markdown",
      "metadata": {
        "id": "ht49bI480k4z"
      },
      "source": [
        "**Activate TPU accelerator**"
      ]
    },
    {
      "cell_type": "code",
      "metadata": {
        "id": "0BDQ6zTwzG_a"
      },
      "source": [
        "def auto_select_accelerator():\r\n",
        "    try:\r\n",
        "        tpu = tf.distribute.cluster_resolver.TPUClusterResolver()\r\n",
        "        tf.config.experimental_connect_to_cluster(tpu)\r\n",
        "        tf.tpu.experimental.initialize_tpu_system(tpu)\r\n",
        "        strategy = tf.distribute.experimental.TPUStrategy(tpu)\r\n",
        "        print(\"Running on TPU:\", tpu.master())\r\n",
        "    except ValueError:\r\n",
        "        strategy = tf.distribute.get_strategy()\r\n",
        "    print(f\"Running on {strategy.num_replicas_in_sync} replicas\")\r\n",
        "    \r\n",
        "    return strategy"
      ],
      "execution_count": null,
      "outputs": []
    },
    {
      "cell_type": "code",
      "metadata": {
        "colab": {
          "base_uri": "https://localhost:8080/"
        },
        "id": "ybRyMwd4OT4g",
        "outputId": "c87f991c-d8f0-446f-ae46-f8a8a90912c9"
      },
      "source": [
        "strategy = auto_select_accelerator()"
      ],
      "execution_count": null,
      "outputs": [
        {
          "output_type": "stream",
          "text": [
            "INFO:tensorflow:Initializing the TPU system: grpc://10.123.171.50:8470\n"
          ],
          "name": "stdout"
        },
        {
          "output_type": "stream",
          "text": [
            "INFO:tensorflow:Initializing the TPU system: grpc://10.123.171.50:8470\n"
          ],
          "name": "stderr"
        },
        {
          "output_type": "stream",
          "text": [
            "INFO:tensorflow:Clearing out eager caches\n"
          ],
          "name": "stdout"
        },
        {
          "output_type": "stream",
          "text": [
            "INFO:tensorflow:Clearing out eager caches\n"
          ],
          "name": "stderr"
        },
        {
          "output_type": "stream",
          "text": [
            "INFO:tensorflow:Finished initializing TPU system.\n"
          ],
          "name": "stdout"
        },
        {
          "output_type": "stream",
          "text": [
            "INFO:tensorflow:Finished initializing TPU system.\n",
            "WARNING:absl:`tf.distribute.experimental.TPUStrategy` is deprecated, please use  the non experimental symbol `tf.distribute.TPUStrategy` instead.\n"
          ],
          "name": "stderr"
        },
        {
          "output_type": "stream",
          "text": [
            "INFO:tensorflow:Found TPU system:\n"
          ],
          "name": "stdout"
        },
        {
          "output_type": "stream",
          "text": [
            "INFO:tensorflow:Found TPU system:\n"
          ],
          "name": "stderr"
        },
        {
          "output_type": "stream",
          "text": [
            "INFO:tensorflow:*** Num TPU Cores: 8\n"
          ],
          "name": "stdout"
        },
        {
          "output_type": "stream",
          "text": [
            "INFO:tensorflow:*** Num TPU Cores: 8\n"
          ],
          "name": "stderr"
        },
        {
          "output_type": "stream",
          "text": [
            "INFO:tensorflow:*** Num TPU Workers: 1\n"
          ],
          "name": "stdout"
        },
        {
          "output_type": "stream",
          "text": [
            "INFO:tensorflow:*** Num TPU Workers: 1\n"
          ],
          "name": "stderr"
        },
        {
          "output_type": "stream",
          "text": [
            "INFO:tensorflow:*** Num TPU Cores Per Worker: 8\n"
          ],
          "name": "stdout"
        },
        {
          "output_type": "stream",
          "text": [
            "INFO:tensorflow:*** Num TPU Cores Per Worker: 8\n"
          ],
          "name": "stderr"
        },
        {
          "output_type": "stream",
          "text": [
            "INFO:tensorflow:*** Available Device: _DeviceAttributes(/job:localhost/replica:0/task:0/device:CPU:0, CPU, 0, 0)\n"
          ],
          "name": "stdout"
        },
        {
          "output_type": "stream",
          "text": [
            "INFO:tensorflow:*** Available Device: _DeviceAttributes(/job:localhost/replica:0/task:0/device:CPU:0, CPU, 0, 0)\n"
          ],
          "name": "stderr"
        },
        {
          "output_type": "stream",
          "text": [
            "INFO:tensorflow:*** Available Device: _DeviceAttributes(/job:worker/replica:0/task:0/device:CPU:0, CPU, 0, 0)\n"
          ],
          "name": "stdout"
        },
        {
          "output_type": "stream",
          "text": [
            "INFO:tensorflow:*** Available Device: _DeviceAttributes(/job:worker/replica:0/task:0/device:CPU:0, CPU, 0, 0)\n"
          ],
          "name": "stderr"
        },
        {
          "output_type": "stream",
          "text": [
            "INFO:tensorflow:*** Available Device: _DeviceAttributes(/job:worker/replica:0/task:0/device:TPU:0, TPU, 0, 0)\n"
          ],
          "name": "stdout"
        },
        {
          "output_type": "stream",
          "text": [
            "INFO:tensorflow:*** Available Device: _DeviceAttributes(/job:worker/replica:0/task:0/device:TPU:0, TPU, 0, 0)\n"
          ],
          "name": "stderr"
        },
        {
          "output_type": "stream",
          "text": [
            "INFO:tensorflow:*** Available Device: _DeviceAttributes(/job:worker/replica:0/task:0/device:TPU:1, TPU, 0, 0)\n"
          ],
          "name": "stdout"
        },
        {
          "output_type": "stream",
          "text": [
            "INFO:tensorflow:*** Available Device: _DeviceAttributes(/job:worker/replica:0/task:0/device:TPU:1, TPU, 0, 0)\n"
          ],
          "name": "stderr"
        },
        {
          "output_type": "stream",
          "text": [
            "INFO:tensorflow:*** Available Device: _DeviceAttributes(/job:worker/replica:0/task:0/device:TPU:2, TPU, 0, 0)\n"
          ],
          "name": "stdout"
        },
        {
          "output_type": "stream",
          "text": [
            "INFO:tensorflow:*** Available Device: _DeviceAttributes(/job:worker/replica:0/task:0/device:TPU:2, TPU, 0, 0)\n"
          ],
          "name": "stderr"
        },
        {
          "output_type": "stream",
          "text": [
            "INFO:tensorflow:*** Available Device: _DeviceAttributes(/job:worker/replica:0/task:0/device:TPU:3, TPU, 0, 0)\n"
          ],
          "name": "stdout"
        },
        {
          "output_type": "stream",
          "text": [
            "INFO:tensorflow:*** Available Device: _DeviceAttributes(/job:worker/replica:0/task:0/device:TPU:3, TPU, 0, 0)\n"
          ],
          "name": "stderr"
        },
        {
          "output_type": "stream",
          "text": [
            "INFO:tensorflow:*** Available Device: _DeviceAttributes(/job:worker/replica:0/task:0/device:TPU:4, TPU, 0, 0)\n"
          ],
          "name": "stdout"
        },
        {
          "output_type": "stream",
          "text": [
            "INFO:tensorflow:*** Available Device: _DeviceAttributes(/job:worker/replica:0/task:0/device:TPU:4, TPU, 0, 0)\n"
          ],
          "name": "stderr"
        },
        {
          "output_type": "stream",
          "text": [
            "INFO:tensorflow:*** Available Device: _DeviceAttributes(/job:worker/replica:0/task:0/device:TPU:5, TPU, 0, 0)\n"
          ],
          "name": "stdout"
        },
        {
          "output_type": "stream",
          "text": [
            "INFO:tensorflow:*** Available Device: _DeviceAttributes(/job:worker/replica:0/task:0/device:TPU:5, TPU, 0, 0)\n"
          ],
          "name": "stderr"
        },
        {
          "output_type": "stream",
          "text": [
            "INFO:tensorflow:*** Available Device: _DeviceAttributes(/job:worker/replica:0/task:0/device:TPU:6, TPU, 0, 0)\n"
          ],
          "name": "stdout"
        },
        {
          "output_type": "stream",
          "text": [
            "INFO:tensorflow:*** Available Device: _DeviceAttributes(/job:worker/replica:0/task:0/device:TPU:6, TPU, 0, 0)\n"
          ],
          "name": "stderr"
        },
        {
          "output_type": "stream",
          "text": [
            "INFO:tensorflow:*** Available Device: _DeviceAttributes(/job:worker/replica:0/task:0/device:TPU:7, TPU, 0, 0)\n"
          ],
          "name": "stdout"
        },
        {
          "output_type": "stream",
          "text": [
            "INFO:tensorflow:*** Available Device: _DeviceAttributes(/job:worker/replica:0/task:0/device:TPU:7, TPU, 0, 0)\n"
          ],
          "name": "stderr"
        },
        {
          "output_type": "stream",
          "text": [
            "INFO:tensorflow:*** Available Device: _DeviceAttributes(/job:worker/replica:0/task:0/device:TPU_SYSTEM:0, TPU_SYSTEM, 0, 0)\n"
          ],
          "name": "stdout"
        },
        {
          "output_type": "stream",
          "text": [
            "INFO:tensorflow:*** Available Device: _DeviceAttributes(/job:worker/replica:0/task:0/device:TPU_SYSTEM:0, TPU_SYSTEM, 0, 0)\n"
          ],
          "name": "stderr"
        },
        {
          "output_type": "stream",
          "text": [
            "INFO:tensorflow:*** Available Device: _DeviceAttributes(/job:worker/replica:0/task:0/device:XLA_CPU:0, XLA_CPU, 0, 0)\n"
          ],
          "name": "stdout"
        },
        {
          "output_type": "stream",
          "text": [
            "INFO:tensorflow:*** Available Device: _DeviceAttributes(/job:worker/replica:0/task:0/device:XLA_CPU:0, XLA_CPU, 0, 0)\n"
          ],
          "name": "stderr"
        },
        {
          "output_type": "stream",
          "text": [
            "Running on TPU: grpc://10.123.171.50:8470\n",
            "Running on 8 replicas\n"
          ],
          "name": "stdout"
        }
      ]
    },
    {
      "cell_type": "markdown",
      "metadata": {
        "id": "eozVkUqI0uIq"
      },
      "source": [
        "**Image Decoder Function**"
      ]
    },
    {
      "cell_type": "code",
      "metadata": {
        "id": "V_bEAFN_0Xf5"
      },
      "source": [
        "def build_decoder(with_labels=True, target_size=(331,331), ext='jpg'):\r\n",
        "    def decode(path):\r\n",
        "        file_bytes = tf.io.read_file(path)\r\n",
        "        if ext == 'png':\r\n",
        "            img = tf.image.decode_png(file_bytes, channels=3)\r\n",
        "        elif ext in ['jpg', 'jpeg']:\r\n",
        "            img = tf.image.decode_jpeg(file_bytes, channels=3)\r\n",
        "        else:\r\n",
        "            raise ValueError(\"Image extension not supported\")\r\n",
        "\r\n",
        "        img = tf.cast(img, tf.float32) / 255.0\r\n",
        "        img = tf.image.resize(img, target_size)\r\n",
        "\r\n",
        "        return img\r\n",
        "    \r\n",
        "    def decode_with_labels(path, label):\r\n",
        "        return decode(path), label\r\n",
        "    \r\n",
        "    return decode_with_labels if with_labels else decode"
      ],
      "execution_count": null,
      "outputs": []
    },
    {
      "cell_type": "markdown",
      "metadata": {
        "id": "LpHUVkjZ01-o"
      },
      "source": [
        "**Data Augmentation Function**"
      ]
    },
    {
      "cell_type": "code",
      "metadata": {
        "id": "xDqFZZPF0jHM"
      },
      "source": [
        "def build_augmenter(with_labels=True):\r\n",
        "    def augment(img):\r\n",
        "        img = tf.image.random_flip_left_right(img)\r\n",
        "        img = tf.image.random_flip_up_down(img)\r\n",
        "        img = tf.image.random_contrast(img, 0.2, 0.4)\r\n",
        "        return img\r\n",
        "    \r\n",
        "    def augment_with_labels(img, label):\r\n",
        "        return augment(img), label\r\n",
        "    \r\n",
        "    return augment_with_labels if with_labels else augment"
      ],
      "execution_count": null,
      "outputs": []
    },
    {
      "cell_type": "markdown",
      "metadata": {
        "id": "hnQmtB1k08An"
      },
      "source": [
        "**Creating Dataset Function**"
      ]
    },
    {
      "cell_type": "code",
      "metadata": {
        "id": "_Ld746OK0YRo"
      },
      "source": [
        "def build_dataset(paths, labels=None, bsize=32, cache=True,\r\n",
        "                  decode_fn=None, augment_fn=None,\r\n",
        "                  augment=True, repeat=True, shuffle=1024, \r\n",
        "                  cache_dir=\"\"):\r\n",
        "    if cache_dir != \"\" and cache is True:\r\n",
        "        os.makedirs(cache_dir, exist_ok=True)\r\n",
        "    \r\n",
        "    if decode_fn is None:\r\n",
        "        decode_fn = build_decoder(labels is not None)\r\n",
        "    \r\n",
        "    if augment_fn is None:\r\n",
        "        augment_fn = build_augmenter(labels is not None)\r\n",
        "    \r\n",
        "    AUTO = tf.data.experimental.AUTOTUNE\r\n",
        "    slices = paths if labels is None else (paths, labels)\r\n",
        "    \r\n",
        "    dset = tf.data.Dataset.from_tensor_slices(slices)\r\n",
        "    dset = dset.map(decode_fn, num_parallel_calls=AUTO)\r\n",
        "    dset = dset.cache(cache_dir) if cache else dset\r\n",
        "    dset = dset.map(augment_fn, num_parallel_calls=AUTO) if augment else dset\r\n",
        "    dset = dset.repeat() if repeat else dset\r\n",
        "    dset = dset.shuffle(shuffle) if shuffle else dset\r\n",
        "    dset = dset.batch(bsize).prefetch(AUTO)\r\n",
        "    \r\n",
        "    return dset"
      ],
      "execution_count": null,
      "outputs": []
    },
    {
      "cell_type": "markdown",
      "metadata": {
        "id": "N-HRFovX17od"
      },
      "source": [
        "**Google Cloud Bucket Link**"
      ]
    },
    {
      "cell_type": "code",
      "metadata": {
        "id": "pEs8H3mQ0dmq"
      },
      "source": [
        "GCS_DS_PATH = 'gs://kds-e118bcdb309cf88b7f9e4a96ee84997123a5781b886180ffc13d3fc9'"
      ],
      "execution_count": null,
      "outputs": []
    },
    {
      "cell_type": "markdown",
      "metadata": {
        "id": "BIjFj6RW5LJn"
      },
      "source": [
        "**Read the CSV file**\r\n"
      ]
    },
    {
      "cell_type": "code",
      "metadata": {
        "colab": {
          "base_uri": "https://localhost:8080/"
        },
        "id": "q4wU3WTc1YUm",
        "outputId": "d1628bc7-d6b1-44b2-a672-7cc199817a0b"
      },
      "source": [
        "df = pd.read_csv(GCS_DS_PATH +'/train.csv')\r\n",
        "sub_df = pd.read_csv(GCS_DS_PATH +'/sample_submission.csv')"
      ],
      "execution_count": null,
      "outputs": [
        {
          "output_type": "stream",
          "text": [
            "WARNING:google.auth.compute_engine._metadata:Compute Engine Metadata server unavailable onattempt 1 of 3. Reason: [Errno 115] Operation now in progress\n",
            "WARNING:google.auth.compute_engine._metadata:Compute Engine Metadata server unavailable onattempt 2 of 3. Reason: [Errno 115] Operation now in progress\n",
            "WARNING:google.auth.compute_engine._metadata:Compute Engine Metadata server unavailable onattempt 3 of 3. Reason: [Errno 115] Operation now in progress\n",
            "WARNING:google.auth._default:Authentication failed using Compute Engine authentication due to unavailable metadata server.\n"
          ],
          "name": "stderr"
        }
      ]
    },
    {
      "cell_type": "code",
      "metadata": {
        "colab": {
          "base_uri": "https://localhost:8080/",
          "height": 402
        },
        "id": "ut2o96QCGmGd",
        "outputId": "84ea9a90-860b-4e89-b4c3-78726b44845f"
      },
      "source": [
        "df"
      ],
      "execution_count": null,
      "outputs": [
        {
          "output_type": "execute_result",
          "data": {
            "text/html": [
              "<div>\n",
              "<style scoped>\n",
              "    .dataframe tbody tr th:only-of-type {\n",
              "        vertical-align: middle;\n",
              "    }\n",
              "\n",
              "    .dataframe tbody tr th {\n",
              "        vertical-align: top;\n",
              "    }\n",
              "\n",
              "    .dataframe thead th {\n",
              "        text-align: right;\n",
              "    }\n",
              "</style>\n",
              "<table border=\"1\" class=\"dataframe\">\n",
              "  <thead>\n",
              "    <tr style=\"text-align: right;\">\n",
              "      <th></th>\n",
              "      <th>image_id</th>\n",
              "      <th>label</th>\n",
              "    </tr>\n",
              "  </thead>\n",
              "  <tbody>\n",
              "    <tr>\n",
              "      <th>0</th>\n",
              "      <td>1000015157.jpg</td>\n",
              "      <td>0</td>\n",
              "    </tr>\n",
              "    <tr>\n",
              "      <th>1</th>\n",
              "      <td>1000201771.jpg</td>\n",
              "      <td>3</td>\n",
              "    </tr>\n",
              "    <tr>\n",
              "      <th>2</th>\n",
              "      <td>100042118.jpg</td>\n",
              "      <td>1</td>\n",
              "    </tr>\n",
              "    <tr>\n",
              "      <th>3</th>\n",
              "      <td>1000723321.jpg</td>\n",
              "      <td>1</td>\n",
              "    </tr>\n",
              "    <tr>\n",
              "      <th>4</th>\n",
              "      <td>1000812911.jpg</td>\n",
              "      <td>3</td>\n",
              "    </tr>\n",
              "    <tr>\n",
              "      <th>...</th>\n",
              "      <td>...</td>\n",
              "      <td>...</td>\n",
              "    </tr>\n",
              "    <tr>\n",
              "      <th>21392</th>\n",
              "      <td>999068805.jpg</td>\n",
              "      <td>3</td>\n",
              "    </tr>\n",
              "    <tr>\n",
              "      <th>21393</th>\n",
              "      <td>999329392.jpg</td>\n",
              "      <td>3</td>\n",
              "    </tr>\n",
              "    <tr>\n",
              "      <th>21394</th>\n",
              "      <td>999474432.jpg</td>\n",
              "      <td>1</td>\n",
              "    </tr>\n",
              "    <tr>\n",
              "      <th>21395</th>\n",
              "      <td>999616605.jpg</td>\n",
              "      <td>4</td>\n",
              "    </tr>\n",
              "    <tr>\n",
              "      <th>21396</th>\n",
              "      <td>999998473.jpg</td>\n",
              "      <td>4</td>\n",
              "    </tr>\n",
              "  </tbody>\n",
              "</table>\n",
              "<p>21397 rows × 2 columns</p>\n",
              "</div>"
            ],
            "text/plain": [
              "             image_id  label\n",
              "0      1000015157.jpg      0\n",
              "1      1000201771.jpg      3\n",
              "2       100042118.jpg      1\n",
              "3      1000723321.jpg      1\n",
              "4      1000812911.jpg      3\n",
              "...               ...    ...\n",
              "21392   999068805.jpg      3\n",
              "21393   999329392.jpg      3\n",
              "21394   999474432.jpg      1\n",
              "21395   999616605.jpg      4\n",
              "21396   999998473.jpg      4\n",
              "\n",
              "[21397 rows x 2 columns]"
            ]
          },
          "metadata": {
            "tags": []
          },
          "execution_count": 10
        }
      ]
    },
    {
      "cell_type": "code",
      "metadata": {
        "id": "wUUfxflu2tq7"
      },
      "source": [
        "paths = GCS_DS_PATH + \"/train_images/\" + df['image_id']\r\n",
        "test_paths = GCS_DS_PATH + \"/test_images/\" + sub_df['image_id']"
      ],
      "execution_count": null,
      "outputs": []
    },
    {
      "cell_type": "code",
      "metadata": {
        "id": "RswSE15R2UuH"
      },
      "source": [
        "labels = df[\"label\"]"
      ],
      "execution_count": null,
      "outputs": []
    },
    {
      "cell_type": "markdown",
      "metadata": {
        "id": "dr4Nrtk35ocY"
      },
      "source": [
        "**Train test split**"
      ]
    },
    {
      "cell_type": "code",
      "metadata": {
        "id": "sH2a9igl2TXX"
      },
      "source": [
        "(\r\n",
        "    train_paths, valid_paths, \r\n",
        "    train_labels, valid_labels\r\n",
        ") = train_test_split(paths, labels, test_size=0.2, random_state=42)"
      ],
      "execution_count": null,
      "outputs": []
    },
    {
      "cell_type": "code",
      "metadata": {
        "id": "fb_0ENtx6YAk"
      },
      "source": [
        "img_size = 331\r\n",
        "batch_size = strategy.num_replicas_in_sync * 16"
      ],
      "execution_count": null,
      "outputs": []
    },
    {
      "cell_type": "code",
      "metadata": {
        "id": "mp56wnuwIpJ4"
      },
      "source": [
        "decoder = build_decoder(with_labels=True, target_size=(img_size, img_size))\r\n",
        "test_decoder = build_decoder(with_labels=False, target_size=(img_size, img_size))\r\n",
        "\r\n",
        "train_dataset = build_dataset(\r\n",
        "    train_paths, train_labels, bsize=batch_size, decode_fn=decoder\r\n",
        ")\r\n",
        "\r\n",
        "valid_dataset = build_dataset(\r\n",
        "    valid_paths, valid_labels, bsize=batch_size, decode_fn=decoder,\r\n",
        "    repeat=False, shuffle=False, augment=False\r\n",
        ")\r\n",
        "\r\n",
        "test_dataset = build_dataset(\r\n",
        "    test_paths, cache=False, bsize=batch_size, decode_fn=test_decoder,\r\n",
        "    repeat=False, shuffle=False, augment=False\r\n",
        ")"
      ],
      "execution_count": null,
      "outputs": []
    },
    {
      "cell_type": "code",
      "metadata": {
        "colab": {
          "base_uri": "https://localhost:8080/"
        },
        "id": "xgUMO5v3VZss",
        "outputId": "80989f61-8103-4a0d-c44d-8f78740701ec"
      },
      "source": [
        "train_dataset"
      ],
      "execution_count": null,
      "outputs": [
        {
          "output_type": "execute_result",
          "data": {
            "text/plain": [
              "<PrefetchDataset shapes: ((None, 331, 331, 3), (None,)), types: (tf.float32, tf.int64)>"
            ]
          },
          "metadata": {
            "tags": []
          },
          "execution_count": 16
        }
      ]
    },
    {
      "cell_type": "code",
      "metadata": {
        "colab": {
          "base_uri": "https://localhost:8080/"
        },
        "id": "RCzX0e8NIp57",
        "outputId": "e182311a-3358-48a9-801a-52a9a3b83be2"
      },
      "source": [
        "with strategy.scope():\r\n",
        "    model = tf.keras.Sequential([\r\n",
        "                                   tf.keras.applications.InceptionResNetV2(\r\n",
        "          include_top=False,\r\n",
        "      weights=\"imagenet\",\r\n",
        "      input_shape=(331,331,3)),\r\n",
        "      tf.keras.layers.GlobalAveragePooling2D(),\r\n",
        "      tf.keras.layers.BatchNormalization(),\r\n",
        "      tf.keras.layers.Dense(64, kernel_regularizer='l2'),\r\n",
        "      tf.keras.layers.BatchNormalization(),\r\n",
        "      tf.keras.layers.Dense(32, kernel_regularizer='l2'),\r\n",
        "      tf.keras.layers.Dropout(0.3),\r\n",
        "      tf.keras.layers.BatchNormalization(),\r\n",
        "      tf.keras.layers.Dense(5, activation='softmax')\r\n",
        "      ])\r\n",
        "    model.compile(loss='sparse_categorical_crossentropy', optimizer='adam', metrics=['acc'])\r\n",
        "    model.summary()"
      ],
      "execution_count": null,
      "outputs": [
        {
          "output_type": "stream",
          "text": [
            "Model: \"sequential_3\"\n",
            "_________________________________________________________________\n",
            "Layer (type)                 Output Shape              Param #   \n",
            "=================================================================\n",
            "inception_resnet_v2 (Functio (None, 9, 9, 1536)        54336736  \n",
            "_________________________________________________________________\n",
            "global_average_pooling2d_4 ( (None, 1536)              0         \n",
            "_________________________________________________________________\n",
            "batch_normalization_1015 (Ba (None, 1536)              6144      \n",
            "_________________________________________________________________\n",
            "dense_9 (Dense)              (None, 64)                98368     \n",
            "_________________________________________________________________\n",
            "batch_normalization_1016 (Ba (None, 64)                256       \n",
            "_________________________________________________________________\n",
            "dense_10 (Dense)             (None, 32)                2080      \n",
            "_________________________________________________________________\n",
            "dropout_6 (Dropout)          (None, 32)                0         \n",
            "_________________________________________________________________\n",
            "batch_normalization_1017 (Ba (None, 32)                128       \n",
            "_________________________________________________________________\n",
            "dense_11 (Dense)             (None, 5)                 165       \n",
            "=================================================================\n",
            "Total params: 54,443,877\n",
            "Trainable params: 54,380,069\n",
            "Non-trainable params: 63,808\n",
            "_________________________________________________________________\n"
          ],
          "name": "stdout"
        }
      ]
    },
    {
      "cell_type": "code",
      "metadata": {
        "id": "rQC2CfYXLPr-"
      },
      "source": [
        "steps_per_epoch = train_paths.shape[0] // batch_size\r\n",
        "checkpoint = tf.keras.callbacks.ModelCheckpoint(\r\n",
        "    'Cassava_model_new.h5', save_best_only=True, monitor='val_loss', mode='min')\r\n",
        "lr_reducer = tf.keras.callbacks.ReduceLROnPlateau(\r\n",
        "    monitor=\"val_loss\", patience=2, min_lr=1e-3, mode='min')"
      ],
      "execution_count": 32,
      "outputs": []
    },
    {
      "cell_type": "code",
      "metadata": {
        "colab": {
          "base_uri": "https://localhost:8080/"
        },
        "id": "Qjp3BAiSTzfi",
        "outputId": "b2ddee9f-33de-4849-d080-5210cb111167"
      },
      "source": [
        "history = model.fit(\r\n",
        "    train_dataset, \r\n",
        "    epochs=20,\r\n",
        "    steps_per_epoch=steps_per_epoch,callbacks = [checkpoint, lr_reducer],\r\n",
        "    validation_data=valid_dataset)"
      ],
      "execution_count": null,
      "outputs": [
        {
          "output_type": "stream",
          "text": [
            "Epoch 1/20\n",
            "133/133 [==============================] - 300s 656ms/step - loss: 2.4425 - acc: 0.6067 - val_loss: 1.4298 - val_acc: 0.6488\n",
            "Epoch 2/20\n",
            "133/133 [==============================] - 57s 432ms/step - loss: 1.0271 - acc: 0.7590 - val_loss: 1.0766 - val_acc: 0.6815\n",
            "Epoch 3/20\n",
            "133/133 [==============================] - 58s 434ms/step - loss: 0.7594 - acc: 0.7986 - val_loss: 241.0663 - val_acc: 0.1091\n",
            "Epoch 4/20\n",
            "133/133 [==============================] - 59s 447ms/step - loss: 0.6259 - acc: 0.8219 - val_loss: 0.9829 - val_acc: 0.7332\n",
            "Epoch 5/20\n",
            "133/133 [==============================] - 58s 435ms/step - loss: 0.5468 - acc: 0.8380 - val_loss: 0.6728 - val_acc: 0.7886\n",
            "Epoch 6/20\n",
            "133/133 [==============================] - 58s 435ms/step - loss: 0.5051 - acc: 0.8510 - val_loss: 1.9515 - val_acc: 0.4963\n",
            "Epoch 7/20\n",
            "133/133 [==============================] - 58s 436ms/step - loss: 0.4804 - acc: 0.8508 - val_loss: 1.1366 - val_acc: 0.5897\n",
            "Epoch 8/20\n",
            "133/133 [==============================] - 58s 439ms/step - loss: 0.4294 - acc: 0.8658 - val_loss: 82.5216 - val_acc: 0.2077\n",
            "Epoch 9/20\n",
            "133/133 [==============================] - 58s 436ms/step - loss: 0.4304 - acc: 0.8654 - val_loss: 0.9734 - val_acc: 0.6245\n",
            "Epoch 10/20\n",
            "133/133 [==============================] - 58s 435ms/step - loss: 0.4146 - acc: 0.8721 - val_loss: 2.2572 - val_acc: 0.4565\n",
            "Epoch 11/20\n",
            "133/133 [==============================] - 60s 452ms/step - loss: 0.3653 - acc: 0.8899 - val_loss: 1.2876 - val_acc: 0.4650\n",
            "Epoch 12/20\n",
            "133/133 [==============================] - 58s 437ms/step - loss: 0.3862 - acc: 0.8821 - val_loss: 0.7735 - val_acc: 0.7643\n",
            "Epoch 13/20\n",
            "133/133 [==============================] - 58s 438ms/step - loss: 0.3625 - acc: 0.8907 - val_loss: 0.8241 - val_acc: 0.7442\n",
            "Epoch 14/20\n",
            "133/133 [==============================] - 60s 450ms/step - loss: 0.3471 - acc: 0.8955 - val_loss: 2.4987 - val_acc: 0.3070\n",
            "Epoch 15/20\n",
            "133/133 [==============================] - 58s 436ms/step - loss: 0.3452 - acc: 0.8932 - val_loss: 0.9649 - val_acc: 0.7308\n",
            "Epoch 16/20\n",
            "133/133 [==============================] - 58s 437ms/step - loss: 0.3545 - acc: 0.8924 - val_loss: 0.6859 - val_acc: 0.7776\n",
            "Epoch 17/20\n",
            "133/133 [==============================] - 58s 435ms/step - loss: 0.3298 - acc: 0.8986 - val_loss: 0.7902 - val_acc: 0.8035\n",
            "Epoch 18/20\n",
            "133/133 [==============================] - 58s 436ms/step - loss: 0.2957 - acc: 0.9135 - val_loss: 2.8379 - val_acc: 0.3033\n",
            "Epoch 19/20\n",
            "133/133 [==============================] - 58s 433ms/step - loss: 0.2856 - acc: 0.9128 - val_loss: 1.5470 - val_acc: 0.6956\n",
            "Epoch 20/20\n",
            "133/133 [==============================] - 58s 437ms/step - loss: 0.2991 - acc: 0.9137 - val_loss: 0.8203 - val_acc: 0.7519\n"
          ],
          "name": "stdout"
        }
      ]
    },
    {
      "cell_type": "code",
      "metadata": {
        "id": "s22oePnOmyWp"
      },
      "source": [
        ""
      ],
      "execution_count": null,
      "outputs": []
    }
  ]
}