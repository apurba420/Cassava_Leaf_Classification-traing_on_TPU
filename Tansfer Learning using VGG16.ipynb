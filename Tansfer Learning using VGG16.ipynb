{
  "nbformat": 4,
  "nbformat_minor": 0,
  "metadata": {
    "colab": {
      "name": "leaf (1).ipynb",
      "provenance": [],
      "collapsed_sections": [],
      "include_colab_link": true
    },
    "kernelspec": {
      "name": "python3",
      "display_name": "Python 3"
    },
    "accelerator": "TPU"
  },
  "cells": [
    {
      "cell_type": "markdown",
      "metadata": {
        "id": "view-in-github",
        "colab_type": "text"
      },
      "source": [
        "<a href=\"https://colab.research.google.com/github/apurba420/Cassava_Leaf_Classification-traing_on_TPU/blob/main/Tansfer%20Learning%20using%20VGG16.ipynb\" target=\"_parent\"><img src=\"https://colab.research.google.com/assets/colab-badge.svg\" alt=\"Open In Colab\"/></a>"
      ]
    },
    {
      "cell_type": "code",
      "metadata": {
        "colab": {
          "base_uri": "https://localhost:8080/"
        },
        "id": "nBoJyqmc1jNS",
        "outputId": "e846b092-7358-4dcc-a277-b3bedcd7e016"
      },
      "source": [
        "!pip install fsspec\r\n",
        "!pip install gcsfs"
      ],
      "execution_count": null,
      "outputs": [
        {
          "output_type": "stream",
          "text": [
            "Requirement already satisfied: fsspec in /usr/local/lib/python3.6/dist-packages (0.8.5)\n",
            "Requirement already satisfied: gcsfs in /usr/local/lib/python3.6/dist-packages (0.7.2)\n",
            "Requirement already satisfied: decorator in /usr/local/lib/python3.6/dist-packages (from gcsfs) (4.4.2)\n",
            "Requirement already satisfied: fsspec>=0.8.0 in /usr/local/lib/python3.6/dist-packages (from gcsfs) (0.8.5)\n",
            "Requirement already satisfied: google-auth>=1.2 in /usr/local/lib/python3.6/dist-packages (from gcsfs) (1.25.0)\n",
            "Requirement already satisfied: google-auth-oauthlib in /usr/local/lib/python3.6/dist-packages (from gcsfs) (0.4.2)\n",
            "Requirement already satisfied: aiohttp in /usr/local/lib/python3.6/dist-packages (from gcsfs) (3.7.3)\n",
            "Requirement already satisfied: requests in /usr/local/lib/python3.6/dist-packages (from gcsfs) (2.23.0)\n",
            "Requirement already satisfied: setuptools>=40.3.0 in /usr/local/lib/python3.6/dist-packages (from google-auth>=1.2->gcsfs) (53.0.0)\n",
            "Requirement already satisfied: rsa<5,>=3.1.4; python_version >= \"3.6\" in /usr/local/lib/python3.6/dist-packages (from google-auth>=1.2->gcsfs) (4.7)\n",
            "Requirement already satisfied: six>=1.9.0 in /usr/local/lib/python3.6/dist-packages (from google-auth>=1.2->gcsfs) (1.15.0)\n",
            "Requirement already satisfied: cachetools<5.0,>=2.0.0 in /usr/local/lib/python3.6/dist-packages (from google-auth>=1.2->gcsfs) (4.2.1)\n",
            "Requirement already satisfied: pyasn1-modules>=0.2.1 in /usr/local/lib/python3.6/dist-packages (from google-auth>=1.2->gcsfs) (0.2.8)\n",
            "Requirement already satisfied: requests-oauthlib>=0.7.0 in /usr/local/lib/python3.6/dist-packages (from google-auth-oauthlib->gcsfs) (1.3.0)\n",
            "Requirement already satisfied: idna-ssl>=1.0; python_version < \"3.7\" in /usr/local/lib/python3.6/dist-packages (from aiohttp->gcsfs) (1.1.0)\n",
            "Requirement already satisfied: attrs>=17.3.0 in /usr/local/lib/python3.6/dist-packages (from aiohttp->gcsfs) (20.3.0)\n",
            "Requirement already satisfied: chardet<4.0,>=2.0 in /usr/local/lib/python3.6/dist-packages (from aiohttp->gcsfs) (3.0.4)\n",
            "Requirement already satisfied: yarl<2.0,>=1.0 in /usr/local/lib/python3.6/dist-packages (from aiohttp->gcsfs) (1.6.3)\n",
            "Requirement already satisfied: typing-extensions>=3.6.5 in /usr/local/lib/python3.6/dist-packages (from aiohttp->gcsfs) (3.7.4.3)\n",
            "Requirement already satisfied: multidict<7.0,>=4.5 in /usr/local/lib/python3.6/dist-packages (from aiohttp->gcsfs) (5.1.0)\n",
            "Requirement already satisfied: async-timeout<4.0,>=3.0 in /usr/local/lib/python3.6/dist-packages (from aiohttp->gcsfs) (3.0.1)\n",
            "Requirement already satisfied: idna<3,>=2.5 in /usr/local/lib/python3.6/dist-packages (from requests->gcsfs) (2.10)\n",
            "Requirement already satisfied: urllib3!=1.25.0,!=1.25.1,<1.26,>=1.21.1 in /usr/local/lib/python3.6/dist-packages (from requests->gcsfs) (1.24.3)\n",
            "Requirement already satisfied: certifi>=2017.4.17 in /usr/local/lib/python3.6/dist-packages (from requests->gcsfs) (2020.12.5)\n",
            "Requirement already satisfied: pyasn1>=0.1.3 in /usr/local/lib/python3.6/dist-packages (from rsa<5,>=3.1.4; python_version >= \"3.6\"->google-auth>=1.2->gcsfs) (0.4.8)\n",
            "Requirement already satisfied: oauthlib>=3.0.0 in /usr/local/lib/python3.6/dist-packages (from requests-oauthlib>=0.7.0->google-auth-oauthlib->gcsfs) (3.1.0)\n"
          ],
          "name": "stdout"
        }
      ]
    },
    {
      "cell_type": "code",
      "metadata": {
        "id": "yX0cbIday8Iw"
      },
      "source": [
        "import numpy as np\r\n",
        "import pandas as pd\r\n",
        "from sklearn.model_selection import train_test_split\r\n",
        "from keras.preprocessing.image import ImageDataGenerator\r\n",
        "import tensorflow as tf\r\n",
        "import keras\r\n",
        "from keras.regularizers import l2\r\n",
        "from matplotlib import pyplot as plt\r\n",
        "from keras.models import Sequential\r\n",
        "from keras.layers import GlobalAveragePooling2D, Flatten, Dense, Dropout, BatchNormalization\r\n",
        "from keras.optimizers import RMSprop, Adam\r\n",
        "from keras.callbacks import EarlyStopping, ModelCheckpoint, ReduceLROnPlateau\r\n",
        "from tensorflow.keras.applications import NASNetMobile"
      ],
      "execution_count": null,
      "outputs": []
    },
    {
      "cell_type": "markdown",
      "metadata": {
        "id": "ht49bI480k4z"
      },
      "source": [
        "**Activate TPU accelerator**"
      ]
    },
    {
      "cell_type": "code",
      "metadata": {
        "id": "0BDQ6zTwzG_a"
      },
      "source": [
        "def auto_select_accelerator():\r\n",
        "    try:\r\n",
        "        tpu = tf.distribute.cluster_resolver.TPUClusterResolver()\r\n",
        "        tf.config.experimental_connect_to_cluster(tpu)\r\n",
        "        tf.tpu.experimental.initialize_tpu_system(tpu)\r\n",
        "        strategy = tf.distribute.experimental.TPUStrategy(tpu)\r\n",
        "        print(\"Running on TPU:\", tpu.master())\r\n",
        "    except ValueError:\r\n",
        "        strategy = tf.distribute.get_strategy()\r\n",
        "    print(f\"Running on {strategy.num_replicas_in_sync} replicas\")\r\n",
        "    \r\n",
        "    return strategy"
      ],
      "execution_count": null,
      "outputs": []
    },
    {
      "cell_type": "code",
      "metadata": {
        "colab": {
          "base_uri": "https://localhost:8080/"
        },
        "id": "ybRyMwd4OT4g",
        "outputId": "b48148e1-fc2f-4f23-8378-0d54da7c7868"
      },
      "source": [
        "strategy = auto_select_accelerator()"
      ],
      "execution_count": null,
      "outputs": [
        {
          "output_type": "stream",
          "text": [
            "WARNING:tensorflow:TPU system grpc://10.59.180.170:8470 has already been initialized. Reinitializing the TPU can cause previously created variables on TPU to be lost.\n"
          ],
          "name": "stdout"
        },
        {
          "output_type": "stream",
          "text": [
            "WARNING:tensorflow:TPU system grpc://10.59.180.170:8470 has already been initialized. Reinitializing the TPU can cause previously created variables on TPU to be lost.\n"
          ],
          "name": "stderr"
        },
        {
          "output_type": "stream",
          "text": [
            "INFO:tensorflow:Initializing the TPU system: grpc://10.59.180.170:8470\n"
          ],
          "name": "stdout"
        },
        {
          "output_type": "stream",
          "text": [
            "INFO:tensorflow:Initializing the TPU system: grpc://10.59.180.170:8470\n"
          ],
          "name": "stderr"
        },
        {
          "output_type": "stream",
          "text": [
            "INFO:tensorflow:Clearing out eager caches\n"
          ],
          "name": "stdout"
        },
        {
          "output_type": "stream",
          "text": [
            "INFO:tensorflow:Clearing out eager caches\n"
          ],
          "name": "stderr"
        },
        {
          "output_type": "stream",
          "text": [
            "INFO:tensorflow:Finished initializing TPU system.\n"
          ],
          "name": "stdout"
        },
        {
          "output_type": "stream",
          "text": [
            "INFO:tensorflow:Finished initializing TPU system.\n",
            "WARNING:absl:`tf.distribute.experimental.TPUStrategy` is deprecated, please use  the non experimental symbol `tf.distribute.TPUStrategy` instead.\n"
          ],
          "name": "stderr"
        },
        {
          "output_type": "stream",
          "text": [
            "INFO:tensorflow:Found TPU system:\n"
          ],
          "name": "stdout"
        },
        {
          "output_type": "stream",
          "text": [
            "INFO:tensorflow:Found TPU system:\n"
          ],
          "name": "stderr"
        },
        {
          "output_type": "stream",
          "text": [
            "INFO:tensorflow:*** Num TPU Cores: 8\n"
          ],
          "name": "stdout"
        },
        {
          "output_type": "stream",
          "text": [
            "INFO:tensorflow:*** Num TPU Cores: 8\n"
          ],
          "name": "stderr"
        },
        {
          "output_type": "stream",
          "text": [
            "INFO:tensorflow:*** Num TPU Workers: 1\n"
          ],
          "name": "stdout"
        },
        {
          "output_type": "stream",
          "text": [
            "INFO:tensorflow:*** Num TPU Workers: 1\n"
          ],
          "name": "stderr"
        },
        {
          "output_type": "stream",
          "text": [
            "INFO:tensorflow:*** Num TPU Cores Per Worker: 8\n"
          ],
          "name": "stdout"
        },
        {
          "output_type": "stream",
          "text": [
            "INFO:tensorflow:*** Num TPU Cores Per Worker: 8\n"
          ],
          "name": "stderr"
        },
        {
          "output_type": "stream",
          "text": [
            "INFO:tensorflow:*** Available Device: _DeviceAttributes(/job:localhost/replica:0/task:0/device:CPU:0, CPU, 0, 0)\n"
          ],
          "name": "stdout"
        },
        {
          "output_type": "stream",
          "text": [
            "INFO:tensorflow:*** Available Device: _DeviceAttributes(/job:localhost/replica:0/task:0/device:CPU:0, CPU, 0, 0)\n"
          ],
          "name": "stderr"
        },
        {
          "output_type": "stream",
          "text": [
            "INFO:tensorflow:*** Available Device: _DeviceAttributes(/job:worker/replica:0/task:0/device:CPU:0, CPU, 0, 0)\n"
          ],
          "name": "stdout"
        },
        {
          "output_type": "stream",
          "text": [
            "INFO:tensorflow:*** Available Device: _DeviceAttributes(/job:worker/replica:0/task:0/device:CPU:0, CPU, 0, 0)\n"
          ],
          "name": "stderr"
        },
        {
          "output_type": "stream",
          "text": [
            "INFO:tensorflow:*** Available Device: _DeviceAttributes(/job:worker/replica:0/task:0/device:TPU:0, TPU, 0, 0)\n"
          ],
          "name": "stdout"
        },
        {
          "output_type": "stream",
          "text": [
            "INFO:tensorflow:*** Available Device: _DeviceAttributes(/job:worker/replica:0/task:0/device:TPU:0, TPU, 0, 0)\n"
          ],
          "name": "stderr"
        },
        {
          "output_type": "stream",
          "text": [
            "INFO:tensorflow:*** Available Device: _DeviceAttributes(/job:worker/replica:0/task:0/device:TPU:1, TPU, 0, 0)\n"
          ],
          "name": "stdout"
        },
        {
          "output_type": "stream",
          "text": [
            "INFO:tensorflow:*** Available Device: _DeviceAttributes(/job:worker/replica:0/task:0/device:TPU:1, TPU, 0, 0)\n"
          ],
          "name": "stderr"
        },
        {
          "output_type": "stream",
          "text": [
            "INFO:tensorflow:*** Available Device: _DeviceAttributes(/job:worker/replica:0/task:0/device:TPU:2, TPU, 0, 0)\n"
          ],
          "name": "stdout"
        },
        {
          "output_type": "stream",
          "text": [
            "INFO:tensorflow:*** Available Device: _DeviceAttributes(/job:worker/replica:0/task:0/device:TPU:2, TPU, 0, 0)\n"
          ],
          "name": "stderr"
        },
        {
          "output_type": "stream",
          "text": [
            "INFO:tensorflow:*** Available Device: _DeviceAttributes(/job:worker/replica:0/task:0/device:TPU:3, TPU, 0, 0)\n"
          ],
          "name": "stdout"
        },
        {
          "output_type": "stream",
          "text": [
            "INFO:tensorflow:*** Available Device: _DeviceAttributes(/job:worker/replica:0/task:0/device:TPU:3, TPU, 0, 0)\n"
          ],
          "name": "stderr"
        },
        {
          "output_type": "stream",
          "text": [
            "INFO:tensorflow:*** Available Device: _DeviceAttributes(/job:worker/replica:0/task:0/device:TPU:4, TPU, 0, 0)\n"
          ],
          "name": "stdout"
        },
        {
          "output_type": "stream",
          "text": [
            "INFO:tensorflow:*** Available Device: _DeviceAttributes(/job:worker/replica:0/task:0/device:TPU:4, TPU, 0, 0)\n"
          ],
          "name": "stderr"
        },
        {
          "output_type": "stream",
          "text": [
            "INFO:tensorflow:*** Available Device: _DeviceAttributes(/job:worker/replica:0/task:0/device:TPU:5, TPU, 0, 0)\n"
          ],
          "name": "stdout"
        },
        {
          "output_type": "stream",
          "text": [
            "INFO:tensorflow:*** Available Device: _DeviceAttributes(/job:worker/replica:0/task:0/device:TPU:5, TPU, 0, 0)\n"
          ],
          "name": "stderr"
        },
        {
          "output_type": "stream",
          "text": [
            "INFO:tensorflow:*** Available Device: _DeviceAttributes(/job:worker/replica:0/task:0/device:TPU:6, TPU, 0, 0)\n"
          ],
          "name": "stdout"
        },
        {
          "output_type": "stream",
          "text": [
            "INFO:tensorflow:*** Available Device: _DeviceAttributes(/job:worker/replica:0/task:0/device:TPU:6, TPU, 0, 0)\n"
          ],
          "name": "stderr"
        },
        {
          "output_type": "stream",
          "text": [
            "INFO:tensorflow:*** Available Device: _DeviceAttributes(/job:worker/replica:0/task:0/device:TPU:7, TPU, 0, 0)\n"
          ],
          "name": "stdout"
        },
        {
          "output_type": "stream",
          "text": [
            "INFO:tensorflow:*** Available Device: _DeviceAttributes(/job:worker/replica:0/task:0/device:TPU:7, TPU, 0, 0)\n"
          ],
          "name": "stderr"
        },
        {
          "output_type": "stream",
          "text": [
            "INFO:tensorflow:*** Available Device: _DeviceAttributes(/job:worker/replica:0/task:0/device:TPU_SYSTEM:0, TPU_SYSTEM, 0, 0)\n"
          ],
          "name": "stdout"
        },
        {
          "output_type": "stream",
          "text": [
            "INFO:tensorflow:*** Available Device: _DeviceAttributes(/job:worker/replica:0/task:0/device:TPU_SYSTEM:0, TPU_SYSTEM, 0, 0)\n"
          ],
          "name": "stderr"
        },
        {
          "output_type": "stream",
          "text": [
            "INFO:tensorflow:*** Available Device: _DeviceAttributes(/job:worker/replica:0/task:0/device:XLA_CPU:0, XLA_CPU, 0, 0)\n"
          ],
          "name": "stdout"
        },
        {
          "output_type": "stream",
          "text": [
            "INFO:tensorflow:*** Available Device: _DeviceAttributes(/job:worker/replica:0/task:0/device:XLA_CPU:0, XLA_CPU, 0, 0)\n"
          ],
          "name": "stderr"
        },
        {
          "output_type": "stream",
          "text": [
            "Running on TPU: grpc://10.59.180.170:8470\n",
            "Running on 8 replicas\n"
          ],
          "name": "stdout"
        }
      ]
    },
    {
      "cell_type": "code",
      "metadata": {
        "id": "pEs8H3mQ0dmq"
      },
      "source": [
        "GCS_DS_PATH = 'gs://kds-e118bcdb309cf88b7f9e4a96ee84997123a5781b886180ffc13d3fc9'"
      ],
      "execution_count": null,
      "outputs": []
    },
    {
      "cell_type": "code",
      "metadata": {
        "id": "q4wU3WTc1YUm"
      },
      "source": [
        "df = pd.read_csv(GCS_DS_PATH +'/train.csv')\r\n",
        "sub_df = pd.read_csv(GCS_DS_PATH +'/sample_submission.csv')\r\n",
        "train_path = \"gs://kds-e118bcdb309cf88b7f9e4a96ee84997123a5781b886180ffc13d3fc9/train_images/\"\r\n"
      ],
      "execution_count": null,
      "outputs": []
    },
    {
      "cell_type": "code",
      "metadata": {
        "id": "uxDQTouPy4v8"
      },
      "source": [
        "new = {0: 'Cassava Bacterial Blight (CBB)',\r\n",
        " 1: 'Cassava Brown Streak Disease (CBSD)',\r\n",
        " 2: 'Cassava Green Mottle (CGM)',\r\n",
        " 3: 'Cassava Mosaic Disease (CMD)',\r\n",
        " 4: 'Healthy'}"
      ],
      "execution_count": null,
      "outputs": []
    },
    {
      "cell_type": "code",
      "metadata": {
        "id": "ut2o96QCGmGd"
      },
      "source": [
        "df['label'] = df['label'].map(new)"
      ],
      "execution_count": null,
      "outputs": []
    },
    {
      "cell_type": "code",
      "metadata": {
        "colab": {
          "base_uri": "https://localhost:8080/",
          "height": 402
        },
        "id": "DUJQG0Jo2U9z",
        "outputId": "ec1cc43b-04e3-46a4-e48a-78162fcb6dd1"
      },
      "source": [
        "df"
      ],
      "execution_count": null,
      "outputs": [
        {
          "output_type": "execute_result",
          "data": {
            "text/html": [
              "<div>\n",
              "<style scoped>\n",
              "    .dataframe tbody tr th:only-of-type {\n",
              "        vertical-align: middle;\n",
              "    }\n",
              "\n",
              "    .dataframe tbody tr th {\n",
              "        vertical-align: top;\n",
              "    }\n",
              "\n",
              "    .dataframe thead th {\n",
              "        text-align: right;\n",
              "    }\n",
              "</style>\n",
              "<table border=\"1\" class=\"dataframe\">\n",
              "  <thead>\n",
              "    <tr style=\"text-align: right;\">\n",
              "      <th></th>\n",
              "      <th>image_id</th>\n",
              "      <th>label</th>\n",
              "    </tr>\n",
              "  </thead>\n",
              "  <tbody>\n",
              "    <tr>\n",
              "      <th>0</th>\n",
              "      <td>1000015157.jpg</td>\n",
              "      <td>Cassava Bacterial Blight (CBB)</td>\n",
              "    </tr>\n",
              "    <tr>\n",
              "      <th>1</th>\n",
              "      <td>1000201771.jpg</td>\n",
              "      <td>Cassava Mosaic Disease (CMD)</td>\n",
              "    </tr>\n",
              "    <tr>\n",
              "      <th>2</th>\n",
              "      <td>100042118.jpg</td>\n",
              "      <td>Cassava Brown Streak Disease (CBSD)</td>\n",
              "    </tr>\n",
              "    <tr>\n",
              "      <th>3</th>\n",
              "      <td>1000723321.jpg</td>\n",
              "      <td>Cassava Brown Streak Disease (CBSD)</td>\n",
              "    </tr>\n",
              "    <tr>\n",
              "      <th>4</th>\n",
              "      <td>1000812911.jpg</td>\n",
              "      <td>Cassava Mosaic Disease (CMD)</td>\n",
              "    </tr>\n",
              "    <tr>\n",
              "      <th>...</th>\n",
              "      <td>...</td>\n",
              "      <td>...</td>\n",
              "    </tr>\n",
              "    <tr>\n",
              "      <th>21392</th>\n",
              "      <td>999068805.jpg</td>\n",
              "      <td>Cassava Mosaic Disease (CMD)</td>\n",
              "    </tr>\n",
              "    <tr>\n",
              "      <th>21393</th>\n",
              "      <td>999329392.jpg</td>\n",
              "      <td>Cassava Mosaic Disease (CMD)</td>\n",
              "    </tr>\n",
              "    <tr>\n",
              "      <th>21394</th>\n",
              "      <td>999474432.jpg</td>\n",
              "      <td>Cassava Brown Streak Disease (CBSD)</td>\n",
              "    </tr>\n",
              "    <tr>\n",
              "      <th>21395</th>\n",
              "      <td>999616605.jpg</td>\n",
              "      <td>Healthy</td>\n",
              "    </tr>\n",
              "    <tr>\n",
              "      <th>21396</th>\n",
              "      <td>999998473.jpg</td>\n",
              "      <td>Healthy</td>\n",
              "    </tr>\n",
              "  </tbody>\n",
              "</table>\n",
              "<p>21397 rows × 2 columns</p>\n",
              "</div>"
            ],
            "text/plain": [
              "             image_id                                label\n",
              "0      1000015157.jpg       Cassava Bacterial Blight (CBB)\n",
              "1      1000201771.jpg         Cassava Mosaic Disease (CMD)\n",
              "2       100042118.jpg  Cassava Brown Streak Disease (CBSD)\n",
              "3      1000723321.jpg  Cassava Brown Streak Disease (CBSD)\n",
              "4      1000812911.jpg         Cassava Mosaic Disease (CMD)\n",
              "...               ...                                  ...\n",
              "21392   999068805.jpg         Cassava Mosaic Disease (CMD)\n",
              "21393   999329392.jpg         Cassava Mosaic Disease (CMD)\n",
              "21394   999474432.jpg  Cassava Brown Streak Disease (CBSD)\n",
              "21395   999616605.jpg                              Healthy\n",
              "21396   999998473.jpg                              Healthy\n",
              "\n",
              "[21397 rows x 2 columns]"
            ]
          },
          "metadata": {
            "tags": []
          },
          "execution_count": 38
        }
      ]
    },
    {
      "cell_type": "code",
      "metadata": {
        "id": "wUUfxflu2tq7"
      },
      "source": [
        "train, test = train_test_split(df, test_size = 0.15, random_state = 42, stratify = df['label'])"
      ],
      "execution_count": null,
      "outputs": []
    },
    {
      "cell_type": "code",
      "metadata": {
        "id": "CTMOaTZ_yMq1"
      },
      "source": [
        ""
      ],
      "execution_count": null,
      "outputs": []
    },
    {
      "cell_type": "code",
      "metadata": {
        "id": "Izf_MFZ7w3Rn"
      },
      "source": [
        "img_size = 256\r\n",
        "batch_size = strategy.num_replicas_in_sync * 16"
      ],
      "execution_count": null,
      "outputs": []
    },
    {
      "cell_type": "code",
      "metadata": {
        "id": "NPTz7GPvxANP"
      },
      "source": [
        "datagen_train = ImageDataGenerator(\r\n",
        "    preprocessing_function = tf.keras.applications.nasnet.preprocess_input,\r\n",
        "    rotation_range = 60,\r\n",
        "    width_shift_range = 0.2,\r\n",
        "    height_shift_range = 0.2,\r\n",
        "    shear_range = 0.2,\r\n",
        "    zoom_range = 0.2,\r\n",
        "    horizontal_flip = True,\r\n",
        "    vertical_flip = True,\r\n",
        "    fill_mode = 'nearest',\r\n",
        ")\r\n",
        "\r\n",
        "datagen_val = ImageDataGenerator(\r\n",
        "    preprocessing_function = tf.keras.applications.nasnet.preprocess_input,\r\n",
        ")"
      ],
      "execution_count": null,
      "outputs": []
    },
    {
      "cell_type": "code",
      "metadata": {
        "colab": {
          "base_uri": "https://localhost:8080/"
        },
        "id": "cOKymxnswvtm",
        "outputId": "05387754-d59f-4423-eccd-ccd3f93be378"
      },
      "source": [
        "train_set = datagen_train.flow_from_dataframe(\r\n",
        "    train,\r\n",
        "    directory=train_path,\r\n",
        "    seed=42,\r\n",
        "    x_col='image_id',\r\n",
        "    y_col='label',\r\n",
        "    target_size = (img_size,img_size),\r\n",
        "    class_mode='categorical',\r\n",
        "    interpolation='nearest',\r\n",
        "    shuffle = True,\r\n",
        "    batch_size = batch_size,\r\n",
        ")"
      ],
      "execution_count": null,
      "outputs": [
        {
          "output_type": "stream",
          "text": [
            "Found 0 validated image filenames belonging to 0 classes.\n"
          ],
          "name": "stdout"
        },
        {
          "output_type": "stream",
          "text": [
            "/usr/local/lib/python3.6/dist-packages/keras_preprocessing/image/dataframe_iterator.py:282: UserWarning: Found 18187 invalid image filename(s) in x_col=\"image_id\". These filename(s) will be ignored.\n",
            "  .format(n_invalid, x_col)\n"
          ],
          "name": "stderr"
        }
      ]
    },
    {
      "cell_type": "markdown",
      "metadata": {
        "id": "N-HRFovX17od"
      },
      "source": [
        "**Google Cloud Bucket Link**"
      ]
    },
    {
      "cell_type": "markdown",
      "metadata": {
        "id": "BIjFj6RW5LJn"
      },
      "source": [
        "**Read the CSV file**\r\n"
      ]
    },
    {
      "cell_type": "code",
      "metadata": {
        "colab": {
          "base_uri": "https://localhost:8080/",
          "height": 402
        },
        "id": "6hvbqAYAzF-E",
        "outputId": "f8ede5a0-1f67-4492-f8a0-54647548b433"
      },
      "source": [
        "df"
      ],
      "execution_count": null,
      "outputs": [
        {
          "output_type": "execute_result",
          "data": {
            "text/html": [
              "<div>\n",
              "<style scoped>\n",
              "    .dataframe tbody tr th:only-of-type {\n",
              "        vertical-align: middle;\n",
              "    }\n",
              "\n",
              "    .dataframe tbody tr th {\n",
              "        vertical-align: top;\n",
              "    }\n",
              "\n",
              "    .dataframe thead th {\n",
              "        text-align: right;\n",
              "    }\n",
              "</style>\n",
              "<table border=\"1\" class=\"dataframe\">\n",
              "  <thead>\n",
              "    <tr style=\"text-align: right;\">\n",
              "      <th></th>\n",
              "      <th>image_id</th>\n",
              "      <th>label</th>\n",
              "    </tr>\n",
              "  </thead>\n",
              "  <tbody>\n",
              "    <tr>\n",
              "      <th>0</th>\n",
              "      <td>1000015157.jpg</td>\n",
              "      <td>Cassava Bacterial Blight (CBB)</td>\n",
              "    </tr>\n",
              "    <tr>\n",
              "      <th>1</th>\n",
              "      <td>1000201771.jpg</td>\n",
              "      <td>Cassava Mosaic Disease (CMD)</td>\n",
              "    </tr>\n",
              "    <tr>\n",
              "      <th>2</th>\n",
              "      <td>100042118.jpg</td>\n",
              "      <td>Cassava Brown Streak Disease (CBSD)</td>\n",
              "    </tr>\n",
              "    <tr>\n",
              "      <th>3</th>\n",
              "      <td>1000723321.jpg</td>\n",
              "      <td>Cassava Brown Streak Disease (CBSD)</td>\n",
              "    </tr>\n",
              "    <tr>\n",
              "      <th>4</th>\n",
              "      <td>1000812911.jpg</td>\n",
              "      <td>Cassava Mosaic Disease (CMD)</td>\n",
              "    </tr>\n",
              "    <tr>\n",
              "      <th>...</th>\n",
              "      <td>...</td>\n",
              "      <td>...</td>\n",
              "    </tr>\n",
              "    <tr>\n",
              "      <th>21392</th>\n",
              "      <td>999068805.jpg</td>\n",
              "      <td>Cassava Mosaic Disease (CMD)</td>\n",
              "    </tr>\n",
              "    <tr>\n",
              "      <th>21393</th>\n",
              "      <td>999329392.jpg</td>\n",
              "      <td>Cassava Mosaic Disease (CMD)</td>\n",
              "    </tr>\n",
              "    <tr>\n",
              "      <th>21394</th>\n",
              "      <td>999474432.jpg</td>\n",
              "      <td>Cassava Brown Streak Disease (CBSD)</td>\n",
              "    </tr>\n",
              "    <tr>\n",
              "      <th>21395</th>\n",
              "      <td>999616605.jpg</td>\n",
              "      <td>Healthy</td>\n",
              "    </tr>\n",
              "    <tr>\n",
              "      <th>21396</th>\n",
              "      <td>999998473.jpg</td>\n",
              "      <td>Healthy</td>\n",
              "    </tr>\n",
              "  </tbody>\n",
              "</table>\n",
              "<p>21397 rows × 2 columns</p>\n",
              "</div>"
            ],
            "text/plain": [
              "             image_id                                label\n",
              "0      1000015157.jpg       Cassava Bacterial Blight (CBB)\n",
              "1      1000201771.jpg         Cassava Mosaic Disease (CMD)\n",
              "2       100042118.jpg  Cassava Brown Streak Disease (CBSD)\n",
              "3      1000723321.jpg  Cassava Brown Streak Disease (CBSD)\n",
              "4      1000812911.jpg         Cassava Mosaic Disease (CMD)\n",
              "...               ...                                  ...\n",
              "21392   999068805.jpg         Cassava Mosaic Disease (CMD)\n",
              "21393   999329392.jpg         Cassava Mosaic Disease (CMD)\n",
              "21394   999474432.jpg  Cassava Brown Streak Disease (CBSD)\n",
              "21395   999616605.jpg                              Healthy\n",
              "21396   999998473.jpg                              Healthy\n",
              "\n",
              "[21397 rows x 2 columns]"
            ]
          },
          "metadata": {
            "tags": []
          },
          "execution_count": 18
        }
      ]
    },
    {
      "cell_type": "code",
      "metadata": {
        "id": "McyMw3EnzFy_"
      },
      "source": [
        ""
      ],
      "execution_count": null,
      "outputs": []
    },
    {
      "cell_type": "code",
      "metadata": {
        "id": "RswSE15R2UuH"
      },
      "source": [
        "labels = df[\"label\"]"
      ],
      "execution_count": null,
      "outputs": []
    },
    {
      "cell_type": "markdown",
      "metadata": {
        "id": "dr4Nrtk35ocY"
      },
      "source": [
        "**Train test split**"
      ]
    },
    {
      "cell_type": "code",
      "metadata": {
        "id": "sH2a9igl2TXX"
      },
      "source": [
        "(\r\n",
        "    train_paths, valid_paths, \r\n",
        "    train_labels, valid_labels\r\n",
        ") = train_test_split(paths, labels, test_size=0.25, random_state=42, stratify=labels)"
      ],
      "execution_count": null,
      "outputs": []
    },
    {
      "cell_type": "code",
      "metadata": {
        "id": "fb_0ENtx6YAk"
      },
      "source": [
        ""
      ],
      "execution_count": null,
      "outputs": []
    },
    {
      "cell_type": "code",
      "metadata": {
        "id": "mp56wnuwIpJ4"
      },
      "source": [
        "decoder = build_decoder(with_labels=True, target_size=(img_size, img_size))\r\n",
        "test_decoder = build_decoder(with_labels=False, target_size=(img_size, img_size))\r\n",
        "\r\n",
        "train_dataset = build_dataset(\r\n",
        "    train_paths, train_labels, bsize=batch_size, decode_fn=decoder\r\n",
        ")\r\n",
        "\r\n",
        "valid_dataset = build_dataset(\r\n",
        "    valid_paths, valid_labels, bsize=batch_size, decode_fn=decoder,\r\n",
        "    repeat=False, shuffle=False, augment=False\r\n",
        ")\r\n",
        "\r\n",
        "test_dataset = build_dataset(\r\n",
        "    test_paths, cache=False, bsize=batch_size, decode_fn=test_decoder,\r\n",
        "    repeat=False, shuffle=False, augment=False\r\n",
        ")"
      ],
      "execution_count": null,
      "outputs": []
    },
    {
      "cell_type": "code",
      "metadata": {
        "colab": {
          "base_uri": "https://localhost:8080/"
        },
        "id": "xgUMO5v3VZss",
        "outputId": "361f12c2-6725-4b57-913e-6942e4bf5a69"
      },
      "source": [
        "train_dataset"
      ],
      "execution_count": null,
      "outputs": [
        {
          "output_type": "execute_result",
          "data": {
            "text/plain": [
              "<PrefetchDataset shapes: ((None, 331, 331, 3), (None,)), types: (tf.float32, tf.int64)>"
            ]
          },
          "metadata": {
            "tags": []
          },
          "execution_count": 16
        }
      ]
    },
    {
      "cell_type": "code",
      "metadata": {
        "colab": {
          "base_uri": "https://localhost:8080/"
        },
        "id": "RCzX0e8NIp57",
        "outputId": "4c2f7479-0811-4fab-9542-7c3e90eacab1"
      },
      "source": [
        "with strategy.scope():\r\n",
        "    model = tf.keras.Sequential([\r\n",
        "                                   tf.keras.applications.VGG16(\r\n",
        "          include_top=False,\r\n",
        "      weights=\"imagenet\",\r\n",
        "      input_shape=(331,331,3)),\r\n",
        "      tf.keras.layers.GlobalAveragePooling2D(),\r\n",
        "      tf.keras.layers.BatchNormalization(),\r\n",
        "      tf.keras.layers.Activation('relu'),\r\n",
        "      tf.keras.layers.Dense(5, activation='softmax')\r\n",
        "      ])\r\n",
        "    model.compile(loss='sparse_categorical_crossentropy', optimizer=tf.keras.optimizers.Adam(lr=0.0001), metrics=['acc'])\r\n",
        "    model.summary()"
      ],
      "execution_count": null,
      "outputs": [
        {
          "output_type": "stream",
          "text": [
            "Model: \"sequential_2\"\n",
            "_________________________________________________________________\n",
            "Layer (type)                 Output Shape              Param #   \n",
            "=================================================================\n",
            "vgg16 (Functional)           (None, 10, 10, 512)       14714688  \n",
            "_________________________________________________________________\n",
            "global_average_pooling2d_4 ( (None, 512)               0         \n",
            "_________________________________________________________________\n",
            "batch_normalization_4 (Batch (None, 512)               2048      \n",
            "_________________________________________________________________\n",
            "activation_260 (Activation)  (None, 512)               0         \n",
            "_________________________________________________________________\n",
            "dense_2 (Dense)              (None, 5)                 2565      \n",
            "=================================================================\n",
            "Total params: 14,719,301\n",
            "Trainable params: 14,718,277\n",
            "Non-trainable params: 1,024\n",
            "_________________________________________________________________\n"
          ],
          "name": "stdout"
        }
      ]
    },
    {
      "cell_type": "code",
      "metadata": {
        "id": "rQC2CfYXLPr-"
      },
      "source": [
        "steps_per_epoch = train_paths.shape[0] // batch_size\r\n",
        "checkpoint = tf.keras.callbacks.ModelCheckpoint(\r\n",
        "    'Model5.h5', save_best_only=True, monitor='val_loss', mode='min')\r\n",
        "lr_reducer = tf.keras.callbacks.ReduceLROnPlateau(\r\n",
        "    monitor=\"val_loss\", patience=1, min_lr=1e-3, mode='min')"
      ],
      "execution_count": null,
      "outputs": []
    },
    {
      "cell_type": "code",
      "metadata": {
        "colab": {
          "base_uri": "https://localhost:8080/"
        },
        "id": "Qjp3BAiSTzfi",
        "outputId": "fd33f7ad-a971-4dfb-81d1-e14c1d5dacd4"
      },
      "source": [
        "history = model.fit(\r\n",
        "    train_dataset, \r\n",
        "    epochs=4,\r\n",
        "    steps_per_epoch=steps_per_epoch,callbacks = [checkpoint, lr_reducer],\r\n",
        "    validation_data=valid_dataset)"
      ],
      "execution_count": null,
      "outputs": [
        {
          "output_type": "stream",
          "text": [
            "Epoch 1/4\n",
            "250/250 [==============================] - 53s 212ms/step - loss: 0.2623 - acc: 0.9104 - val_loss: 0.4228 - val_acc: 0.8751\n",
            "Epoch 2/4\n",
            "250/250 [==============================] - 53s 212ms/step - loss: 0.2530 - acc: 0.9167 - val_loss: 0.4250 - val_acc: 0.8652\n",
            "Epoch 3/4\n",
            "250/250 [==============================] - 53s 211ms/step - loss: 0.2505 - acc: 0.9151 - val_loss: 0.4190 - val_acc: 0.8712\n",
            "Epoch 4/4\n",
            " 94/250 [==========>...................] - ETA: 29s - loss: 0.2599 - acc: 0.9114"
          ],
          "name": "stdout"
        }
      ]
    },
    {
      "cell_type": "code",
      "metadata": {
        "id": "s22oePnOmyWp",
        "colab": {
          "base_uri": "https://localhost:8080/",
          "height": 513
        },
        "outputId": "de57bd71-3185-494d-aba8-ac9118b2e774"
      },
      "source": [
        "acc = history.history['acc']\r\n",
        "val_acc = history.history['val_acc']\r\n",
        "\r\n",
        "loss = history.history['loss']\r\n",
        "val_loss = history.history['val_loss']\r\n",
        "\r\n",
        "plt.figure(figsize=(8, 8))\r\n",
        "plt.subplot(2, 1, 1)\r\n",
        "plt.plot(acc, label='Training Accuracy')\r\n",
        "plt.plot(val_acc, label='Validation Accuracy')\r\n",
        "plt.legend(loc='lower right')\r\n",
        "plt.ylabel('Accuracy')\r\n",
        "plt.ylim([min(plt.ylim()),1])\r\n",
        "plt.title('Training and Validation Accuracy')\r\n",
        "\r\n",
        "plt.subplot(2, 1, 2)\r\n",
        "plt.plot(loss, label='Training Loss')\r\n",
        "plt.plot(val_loss, label='Validation Loss')\r\n",
        "plt.legend(loc='upper right')\r\n",
        "plt.ylabel('Cross Entropy')\r\n",
        "plt.ylim([0,1.0])\r\n",
        "plt.title('Training and Validation Loss')\r\n",
        "plt.xlabel('epoch')\r\n",
        "plt.show()"
      ],
      "execution_count": null,
      "outputs": [
        {
          "output_type": "display_data",
          "data": {
            "image/png": "[encoded data removed]",
            "text/plain": [
              "<Figure size 576x576 with 2 Axes>"
            ]
          },
          "metadata": {
            "tags": [],
            "needs_background": "light"
          }
        }
      ]
    }
  ]
}